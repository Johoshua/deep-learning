{
 "cells": [
  {
   "cell_type": "markdown",
   "metadata": {
    "collapsed": true
   },
   "source": [
    "# Image Classification\n",
    "In this project, you'll classify images from the [CIFAR-10 dataset](https://www.cs.toronto.edu/~kriz/cifar.html).  The dataset consists of airplanes, dogs, cats, and other objects. You'll preprocess the images, then train a convolutional neural network on all the samples. The images need to be normalized and the labels need to be one-hot encoded.  You'll get to apply what you learned and build a convolutional, max pooling, dropout, and fully connected layers.  At the end, you'll get to see your neural network's predictions on the sample images.\n",
    "## Get the Data\n",
    "Run the following cell to download the [CIFAR-10 dataset for python](https://www.cs.toronto.edu/~kriz/cifar-10-python.tar.gz)."
   ]
  },
  {
   "cell_type": "code",
   "execution_count": 1,
   "metadata": {
    "collapsed": false
   },
   "outputs": [
    {
     "name": "stdout",
     "output_type": "stream",
     "text": [
      "All files found!\n"
     ]
    }
   ],
   "source": [
    "\"\"\"\n",
    "DON'T MODIFY ANYTHING IN THIS CELL THAT IS BELOW THIS LINE\n",
    "\"\"\"\n",
    "from urllib.request import urlretrieve\n",
    "from os.path import isfile, isdir\n",
    "from sklearn import preprocessing\n",
    "from tqdm import tqdm\n",
    "import problem_unittests as tests\n",
    "import tarfile\n",
    "\n",
    "cifar10_dataset_folder_path = 'cifar-10-batches-py'\n",
    "\n",
    "class DLProgress(tqdm):\n",
    "    last_block = 0\n",
    "\n",
    "    def hook(self, block_num=1, block_size=1, total_size=None):\n",
    "        self.total = total_size\n",
    "        self.update((block_num - self.last_block) * block_size)\n",
    "        self.last_block = block_num\n",
    "\n",
    "if not isfile('cifar-10-python.tar.gz'):\n",
    "    with DLProgress(unit='B', unit_scale=True, miniters=1, desc='CIFAR-10 Dataset') as pbar:\n",
    "        urlretrieve(\n",
    "            'https://www.cs.toronto.edu/~kriz/cifar-10-python.tar.gz',\n",
    "            'cifar-10-python.tar.gz',\n",
    "            pbar.hook)\n",
    "\n",
    "if not isdir(cifar10_dataset_folder_path):\n",
    "    with tarfile.open('cifar-10-python.tar.gz') as tar:\n",
    "        tar.extractall()\n",
    "        tar.close()\n",
    "\n",
    "\n",
    "tests.test_folder_path(cifar10_dataset_folder_path)"
   ]
  },
  {
   "cell_type": "markdown",
   "metadata": {},
   "source": [
    "## Explore the Data\n",
    "The dataset is broken into batches to prevent your machine from running out of memory.  The CIFAR-10 dataset consists of 5 batches, named `data_batch_1`, `data_batch_2`, etc.. Each batch contains the labels and images that are one of the following:\n",
    "* airplane\n",
    "* automobile\n",
    "* bird\n",
    "* cat\n",
    "* deer\n",
    "* dog\n",
    "* frog\n",
    "* horse\n",
    "* ship\n",
    "* truck\n",
    "\n",
    "Understanding a dataset is part of making predictions on the data.  Play around with the code cell below by changing the `batch_id` and `sample_id`. The `batch_id` is the id for a batch (1-5). The `sample_id` is the id for a image and label pair in the batch.\n",
    "\n",
    "Ask yourself \"What are all possible labels?\", \"What is the range of values for the image data?\", \"Are the labels in order or random?\".  Answers to questions like these will help you preprocess the data and end up with better predictions."
   ]
  },
  {
   "cell_type": "code",
   "execution_count": 2,
   "metadata": {
    "collapsed": false
   },
   "outputs": [
    {
     "name": "stdout",
     "output_type": "stream",
     "text": [
      "\n",
      "Stats of batch 2:\n",
      "Samples: 10000\n",
      "Label Counts: {0: 984, 1: 1007, 2: 1010, 3: 995, 4: 1010, 5: 988, 6: 1008, 7: 1026, 8: 987, 9: 985}\n",
      "First 20 Labels: [1, 6, 6, 8, 8, 3, 4, 6, 0, 6, 0, 3, 6, 6, 5, 4, 8, 3, 2, 6]\n",
      "\n",
      "Example of Image 5:\n",
      "Image - Min Value: 3 Max Value: 219\n",
      "Image - Shape: (32, 32, 3)\n",
      "Label - Label Id: 3 Name: cat\n"
     ]
    },
    {
     "data": {
      "image/png": "[encoded data removed]",
      "text/plain": [
       "<matplotlib.figure.Figure at 0x1146e5da0>"
      ]
     },
     "metadata": {
      "image/png": {
       "height": 250,
       "width": 253
      }
     },
     "output_type": "display_data"
    }
   ],
   "source": [
    "%matplotlib inline\n",
    "%config InlineBackend.figure_format = 'retina'\n",
    "\n",
    "import helper\n",
    "import numpy as np\n",
    "\n",
    "# Explore the dataset\n",
    "batch_id = 2\n",
    "sample_id = 5\n",
    "helper.display_stats(cifar10_dataset_folder_path, batch_id, sample_id)"
   ]
  },
  {
   "cell_type": "markdown",
   "metadata": {},
   "source": [
    "## Implement Preprocess Functions\n",
    "### Normalize\n",
    "In the cell below, implement the `normalize` function to take in image data, `x`, and return it as a normalized Numpy array. The values should be in the range of 0 to 1, inclusive.  The return object should be the same shape as `x`."
   ]
  },
  {
   "cell_type": "code",
   "execution_count": 3,
   "metadata": {
    "collapsed": false
   },
   "outputs": [
    {
     "name": "stdout",
     "output_type": "stream",
     "text": [
      "Tests Passed\n"
     ]
    }
   ],
   "source": [
    "def normalize(x):\n",
    "    \"\"\"\n",
    "    Normalize a list of sample image data in the range of 0 to 1\n",
    "    : x: List of image data.  The image shape is (32, 32, 3)\n",
    "    : return: Numpy array of normalize data\n",
    "    \"\"\"\n",
    "    # TODO: Implement Function\n",
    "    x = 0.1 + (x - x.min())*0.8/(x.max()-x.min())\n",
    "    return x\n",
    "\n",
    "\n",
    "\"\"\"\n",
    "DON'T MODIFY ANYTHING IN THIS CELL THAT IS BELOW THIS LINE\n",
    "\"\"\"\n",
    "tests.test_normalize(normalize)"
   ]
  },
  {
   "cell_type": "markdown",
   "metadata": {},
   "source": [
    "### One-hot encode\n",
    "Just like the previous code cell, you'll be implementing a function for preprocessing.  This time, you'll implement the `one_hot_encode` function. The input, `x`, are a list of labels.  Implement the function to return the list of labels as One-Hot encoded Numpy array.  The possible values for labels are 0 to 9. The one-hot encoding function should return the same encoding for each value between each call to `one_hot_encode`.  Make sure to save the map of encodings outside the function.\n",
    "\n",
    "Hint: Don't reinvent the wheel."
   ]
  },
  {
   "cell_type": "code",
   "execution_count": 4,
   "metadata": {
    "collapsed": false
   },
   "outputs": [
    {
     "name": "stdout",
     "output_type": "stream",
     "text": [
      "Tests Passed\n"
     ]
    }
   ],
   "source": [
    "encoded_labels = dict()\n",
    "\n",
    "def one_hot_encode(x):\n",
    "    \"\"\"\n",
    "    One hot encode a list of sample labels. Return a one-hot encoded vector for each label.\n",
    "    : x: List of sample Labels\n",
    "    : return: Numpy array of one-hot encoded labels\n",
    "    \"\"\"\n",
    "    labels = []\n",
    "    encode = False\n",
    "    for label in x:\n",
    "        if label not in encoded_labels:\n",
    "            encode = True\n",
    "            encoded_labels[label] = []\n",
    "\n",
    "    if encode:       \n",
    "        to_encode = []\n",
    "        for key, value in encoded_labels.items():\n",
    "            to_encode.append(key)\n",
    "        encoder = preprocessing.LabelBinarizer()\n",
    "        encoder.fit(to_encode)\n",
    "        new_labels = encoder.transform(to_encode)\n",
    "        for i in range(len(new_labels)):\n",
    "            encoded_labels[to_encode[i]] = new_labels[i]\n",
    "    \n",
    "    for label in x: \n",
    "        labels.append(encoded_labels[label])\n",
    "\n",
    "    # Change to float32, so it can be multiplied against the features in TensorFlow, which are float32\n",
    "    return np.asarray(labels, dtype=np.float32)\n",
    "\n",
    "\n",
    "\"\"\"\n",
    "DON'T MODIFY ANYTHING IN THIS CELL THAT IS BELOW THIS LINE\n",
    "\"\"\"\n",
    "tests.test_one_hot_encode(one_hot_encode)"
   ]
  },
  {
   "cell_type": "markdown",
   "metadata": {},
   "source": [
    "### Randomize Data\n",
    "As you saw from exploring the data above, the order of the samples are randomized.  It doesn't hurt to randomize it again, but you don't need to for this dataset."
   ]
  },
  {
   "cell_type": "markdown",
   "metadata": {},
   "source": [
    "## Preprocess all the data and save it\n",
    "Running the code cell below will preprocess all the CIFAR-10 data and save it to file. The code below also uses 10% of the training data for validation."
   ]
  },
  {
   "cell_type": "code",
   "execution_count": 5,
   "metadata": {
    "collapsed": false
   },
   "outputs": [],
   "source": [
    "\"\"\"\n",
    "DON'T MODIFY ANYTHING IN THIS CELL\n",
    "\"\"\"\n",
    "# Preprocess Training, Validation, and Testing Data\n",
    "helper.preprocess_and_save_data(cifar10_dataset_folder_path, normalize, one_hot_encode)"
   ]
  },
  {
   "cell_type": "markdown",
   "metadata": {},
   "source": [
    "# Check Point\n",
    "This is your first checkpoint.  If you ever decide to come back to this notebook or have to restart the notebook, you can start from here.  The preprocessed data has been saved to disk."
   ]
  },
  {
   "cell_type": "code",
   "execution_count": 6,
   "metadata": {
    "collapsed": true
   },
   "outputs": [],
   "source": [
    "\"\"\"\n",
    "DON'T MODIFY ANYTHING IN THIS CELL\n",
    "\"\"\"\n",
    "import pickle\n",
    "import problem_unittests as tests\n",
    "import helper\n",
    "\n",
    "# Load the Preprocessed Validation data\n",
    "valid_features, valid_labels = pickle.load(open('preprocess_validation.p', mode='rb'))"
   ]
  },
  {
   "cell_type": "markdown",
   "metadata": {},
   "source": [
    "## Build the network\n",
    "For the neural network, you'll build each layer into a function.  Most of the code you've seen has been outside of functions. To test your code more thoroughly, we require that you put each layer in a function.  This allows us to give you better feedback and test for simple mistakes using our unittests before you submit your project.\n",
    "\n",
    ">**Note:** If you're finding it hard to dedicate enough time for this course each week, we've provided a small shortcut to this part of the project. In the next couple of problems, you'll have the option to use classes from the [TensorFlow Layers](https://www.tensorflow.org/api_docs/python/tf/layers) or [TensorFlow Layers (contrib)](https://www.tensorflow.org/api_guides/python/contrib.layers) packages to build each layer, except the layers you build in the \"Convolutional and Max Pooling Layer\" section.  TF Layers is similar to Keras's and TFLearn's abstraction to layers, so it's easy to pickup.\n",
    "\n",
    ">However, if you would like to get the most out of this course, try to solve all the problems _without_ using anything from the TF Layers packages. You **can** still use classes from other packages that happen to have the same name as ones you find in TF Layers! For example, instead of using the TF Layers version of the `conv2d` class, [tf.layers.conv2d](https://www.tensorflow.org/api_docs/python/tf/layers/conv2d), you would want to use the TF Neural Network version of `conv2d`, [tf.nn.conv2d](https://www.tensorflow.org/api_docs/python/tf/nn/conv2d). \n",
    "\n",
    "Let's begin!\n",
    "\n",
    "### Input\n",
    "The neural network needs to read the image data, one-hot encoded labels, and dropout keep probability. Implement the following functions\n",
    "* Implement `neural_net_image_input`\n",
    " * Return a [TF Placeholder](https://www.tensorflow.org/api_docs/python/tf/placeholder)\n",
    " * Set the shape using `image_shape` with batch size set to `None`.\n",
    " * Name the TensorFlow placeholder \"x\" using the TensorFlow `name` parameter in the [TF Placeholder](https://www.tensorflow.org/api_docs/python/tf/placeholder).\n",
    "* Implement `neural_net_label_input`\n",
    " * Return a [TF Placeholder](https://www.tensorflow.org/api_docs/python/tf/placeholder)\n",
    " * Set the shape using `n_classes` with batch size set to `None`.\n",
    " * Name the TensorFlow placeholder \"y\" using the TensorFlow `name` parameter in the [TF Placeholder](https://www.tensorflow.org/api_docs/python/tf/placeholder).\n",
    "* Implement `neural_net_keep_prob_input`\n",
    " * Return a [TF Placeholder](https://www.tensorflow.org/api_docs/python/tf/placeholder) for dropout keep probability.\n",
    " * Name the TensorFlow placeholder \"keep_prob\" using the TensorFlow `name` parameter in the [TF Placeholder](https://www.tensorflow.org/api_docs/python/tf/placeholder).\n",
    "\n",
    "These names will be used at the end of the project to load your saved model.\n",
    "\n",
    "Note: `None` for shapes in TensorFlow allow for a dynamic size."
   ]
  },
  {
   "cell_type": "code",
   "execution_count": 7,
   "metadata": {
    "collapsed": false
   },
   "outputs": [
    {
     "name": "stdout",
     "output_type": "stream",
     "text": [
      "Image Input Tests Passed.\n",
      "Label Input Tests Passed.\n",
      "Keep Prob Tests Passed.\n"
     ]
    }
   ],
   "source": [
    "import tensorflow as tf\n",
    "\n",
    "def neural_net_image_input(image_shape):\n",
    "    \"\"\"\n",
    "    Return a Tensor for a bach of image input\n",
    "    : image_shape: Shape of the images\n",
    "    : return: Tensor for image input.\n",
    "    \"\"\"\n",
    "    # TODO: Implement Function\n",
    "    shape = [None]\n",
    "    for s in image_shape:\n",
    "        shape.append(s)\n",
    "    \n",
    "    return tf.placeholder(tf.float32, shape=shape, name='x')\n",
    "\n",
    "\n",
    "def neural_net_label_input(n_classes):\n",
    "    \"\"\"\n",
    "    Return a Tensor for a batch of label input\n",
    "    : n_classes: Number of classes\n",
    "    : return: Tensor for label input.\n",
    "    \"\"\"\n",
    "    # TODO: Implement Function\n",
    "    return tf.placeholder(tf.float32, shape=[None, n_classes], name='y')\n",
    "\n",
    "\n",
    "def neural_net_keep_prob_input():\n",
    "    \"\"\"\n",
    "    Return a Tensor for keep probability\n",
    "    : return: Tensor for keep probability.\n",
    "    \"\"\"\n",
    "    # TODO: Implement Function\n",
    "    return tf.placeholder(tf.float32, name='keep_prob')\n",
    "\n",
    "\n",
    "\"\"\"\n",
    "DON'T MODIFY ANYTHING IN THIS CELL THAT IS BELOW THIS LINE\n",
    "\"\"\"\n",
    "tf.reset_default_graph()\n",
    "tests.test_nn_image_inputs(neural_net_image_input)\n",
    "tests.test_nn_label_inputs(neural_net_label_input)\n",
    "tests.test_nn_keep_prob_inputs(neural_net_keep_prob_input)"
   ]
  },
  {
   "cell_type": "markdown",
   "metadata": {},
   "source": [
    "### Convolution and Max Pooling Layer\n",
    "Convolution layers have a lot of success with images. For this code cell, you should implement the function `conv2d_maxpool` to apply convolution then max pooling:\n",
    "* Create the weight and bias using `conv_ksize`, `conv_num_outputs` and the shape of `x_tensor`.\n",
    "* Apply a convolution to `x_tensor` using weight and `conv_strides`.\n",
    " * We recommend you use same padding, but you're welcome to use any padding.\n",
    "* Add bias\n",
    "* Add a nonlinear activation to the convolution.\n",
    "* Apply Max Pooling using `pool_ksize` and `pool_strides`.\n",
    " * We recommend you use same padding, but you're welcome to use any padding.\n",
    "\n",
    "**Note:** You **can't** use [TensorFlow Layers](https://www.tensorflow.org/api_docs/python/tf/layers) or [TensorFlow Layers (contrib)](https://www.tensorflow.org/api_guides/python/contrib.layers) for **this** layer, but you can still use TensorFlow's [Neural Network](https://www.tensorflow.org/api_docs/python/tf/nn) package. You may still use the shortcut option for all the **other** layers."
   ]
  },
  {
   "cell_type": "code",
   "execution_count": 8,
   "metadata": {
    "collapsed": false
   },
   "outputs": [
    {
     "name": "stdout",
     "output_type": "stream",
     "text": [
      "Tests Passed\n"
     ]
    }
   ],
   "source": [
    "def conv2d_maxpool(x_tensor, conv_num_outputs, conv_ksize, conv_strides, pool_ksize, pool_strides):\n",
    "    \"\"\"\n",
    "    Apply convolution then max pooling to x_tensor\n",
    "    :param x_tensor: TensorFlow Tensor\n",
    "    :param conv_num_outputs: Number of outputs for the convolutional layer\n",
    "    :param conv_ksize: kernal size 2-D Tuple for the convolutional layer\n",
    "    :param conv_strides: Stride 2-D Tuple for convolution\n",
    "    :param pool_ksize: kernal size 2-D Tuple for pool\n",
    "    :param pool_strides: Stride 2-D Tuple for pool\n",
    "    : return: A tensor that represents convolution and max pooling of x_tensor\n",
    "    \"\"\"\n",
    "    # TODO: Implement Function\n",
    "    x_shape = x_tensor.get_shape().as_list() \n",
    "        \n",
    "    w = tf.Variable(tf.random_normal([conv_ksize[0],conv_ksize[1], x_shape[3] , conv_num_outputs], mean=0.0, stddev=0.05))\n",
    "    b = tf.Variable(tf.zeros(conv_num_outputs))\n",
    "\n",
    "    conv_layer = tf.nn.conv2d(x_tensor, w, [1,conv_strides[0],conv_strides[1],1], 'SAME')\n",
    "    conv_layer = tf.nn.bias_add(conv_layer, b)\n",
    "    conv_layer = tf.nn.relu(conv_layer)\n",
    "    \n",
    "    return tf.nn.max_pool(conv_layer, ksize=[1, pool_ksize[0], pool_ksize[1], 1], \\\n",
    "                          strides=[1, pool_strides[0], pool_strides[1], 1],\\\n",
    "                          padding='SAME')\n",
    "\n",
    "\n",
    "\"\"\"\n",
    "DON'T MODIFY ANYTHING IN THIS CELL THAT IS BELOW THIS LINE\n",
    "\"\"\"\n",
    "tests.test_con_pool(conv2d_maxpool)"
   ]
  },
  {
   "cell_type": "markdown",
   "metadata": {},
   "source": [
    "### Flatten Layer\n",
    "Implement the `flatten` function to change the dimension of `x_tensor` from a 4-D tensor to a 2-D tensor.  The output should be the shape (*Batch Size*, *Flattened Image Size*). Shortcut option: you can use classes from the [TensorFlow Layers](https://www.tensorflow.org/api_docs/python/tf/layers) or [TensorFlow Layers (contrib)](https://www.tensorflow.org/api_guides/python/contrib.layers) packages for this layer. For more of a challenge, only use other TensorFlow packages."
   ]
  },
  {
   "cell_type": "code",
   "execution_count": 9,
   "metadata": {
    "collapsed": false
   },
   "outputs": [
    {
     "name": "stdout",
     "output_type": "stream",
     "text": [
      "Tests Passed\n"
     ]
    }
   ],
   "source": [
    "def flatten(x_tensor):\n",
    "    \"\"\"\n",
    "    Flatten x_tensor to (Batch Size, Flattened Image Size)\n",
    "    : x_tensor: A tensor of size (Batch Size, ...), where ... are the image dimensions.\n",
    "    : return: A tensor of size (Batch Size, Flattened Image Size).\n",
    "    \"\"\"\n",
    "    shape = x_tensor.get_shape().as_list()\n",
    "    size = shape[1]*shape[2]*shape[3]\n",
    "    return tf.reshape(x_tensor, [-1, size])\n",
    "\n",
    "\n",
    "\"\"\"\n",
    "DON'T MODIFY ANYTHING IN THIS CELL THAT IS BELOW THIS LINE\n",
    "\"\"\"\n",
    "tests.test_flatten(flatten)"
   ]
  },
  {
   "cell_type": "markdown",
   "metadata": {},
   "source": [
    "### Fully-Connected Layer\n",
    "Implement the `fully_conn` function to apply a fully connected layer to `x_tensor` with the shape (*Batch Size*, *num_outputs*). Shortcut option: you can use classes from the [TensorFlow Layers](https://www.tensorflow.org/api_docs/python/tf/layers) or [TensorFlow Layers (contrib)](https://www.tensorflow.org/api_guides/python/contrib.layers) packages for this layer. For more of a challenge, only use other TensorFlow packages."
   ]
  },
  {
   "cell_type": "code",
   "execution_count": 10,
   "metadata": {
    "collapsed": false
   },
   "outputs": [
    {
     "name": "stdout",
     "output_type": "stream",
     "text": [
      "Tests Passed\n"
     ]
    }
   ],
   "source": [
    "def fully_conn(x_tensor, num_outputs):\n",
    "    \"\"\"\n",
    "    Apply a fully connected layer to x_tensor using weight and bias\n",
    "    : x_tensor: A 2-D tensor where the first dimension is batch size.\n",
    "    : num_outputs: The number of output that the new tensor should be.\n",
    "    : return: A 2-D tensor where the second dimension is num_outputs.\n",
    "    \"\"\"\n",
    "    # TODO: Implement Function\n",
    "    dims = x_tensor.get_shape().as_list()[1] #[0] is batch size\n",
    "    w = tf.Variable(tf.random_normal([dims, num_outputs], mean=0.0, stddev=0.05))\n",
    "    b = tf.Variable(tf.zeros(num_outputs))\n",
    "    res = tf.add(tf.matmul(x_tensor, w), b)\n",
    "    return tf.nn.relu(res)\n",
    "\n",
    "\n",
    "\"\"\"\n",
    "DON'T MODIFY ANYTHING IN THIS CELL THAT IS BELOW THIS LINE\n",
    "\"\"\"\n",
    "tests.test_fully_conn(fully_conn)"
   ]
  },
  {
   "cell_type": "markdown",
   "metadata": {},
   "source": [
    "### Output Layer\n",
    "Implement the `output` function to apply a fully connected layer to `x_tensor` with the shape (*Batch Size*, *num_outputs*). Shortcut option: you can use classes from the [TensorFlow Layers](https://www.tensorflow.org/api_docs/python/tf/layers) or [TensorFlow Layers (contrib)](https://www.tensorflow.org/api_guides/python/contrib.layers) packages for this layer. For more of a challenge, only use other TensorFlow packages.\n",
    "\n",
    "**Note:** Activation, softmax, or cross entropy should **not** be applied to this."
   ]
  },
  {
   "cell_type": "code",
   "execution_count": 11,
   "metadata": {
    "collapsed": false
   },
   "outputs": [
    {
     "name": "stdout",
     "output_type": "stream",
     "text": [
      "Tests Passed\n"
     ]
    }
   ],
   "source": [
    "def output(x_tensor, num_outputs):\n",
    "    \"\"\"\n",
    "    Apply a output layer to x_tensor using weight and bias\n",
    "    : x_tensor: A 2-D tensor where the first dimension is batch size.\n",
    "    : num_outputs: The number of output that the new tensor should be.\n",
    "    : return: A 2-D tensor where the second dimension is num_outputs.\n",
    "    \"\"\"\n",
    "    w = tf.Variable(tf.random_normal([x_tensor.get_shape().as_list()[1], num_outputs], mean=0.0, stddev=0.05))\n",
    "    b = tf.Variable(tf.random_normal([num_outputs]))\n",
    "    return tf.add(tf.matmul(x_tensor, w),b)\n",
    "\n",
    "\n",
    "\n",
    "\"\"\"\n",
    "DON'T MODIFY ANYTHING IN THIS CELL THAT IS BELOW THIS LINE\n",
    "\"\"\"\n",
    "tests.test_output(output)"
   ]
  },
  {
   "cell_type": "markdown",
   "metadata": {},
   "source": [
    "### Create Convolutional Model\n",
    "Implement the function `conv_net` to create a convolutional neural network model. The function takes in a batch of images, `x`, and outputs logits.  Use the layers you created above to create this model:\n",
    "\n",
    "* Apply 1, 2, or 3 Convolution and Max Pool layers\n",
    "* Apply a Flatten Layer\n",
    "* Apply 1, 2, or 3 Fully Connected Layers\n",
    "* Apply an Output Layer\n",
    "* Return the output\n",
    "* Apply [TensorFlow's Dropout](https://www.tensorflow.org/api_docs/python/tf/nn/dropout) to one or more layers in the model using `keep_prob`. "
   ]
  },
  {
   "cell_type": "code",
   "execution_count": 12,
   "metadata": {
    "collapsed": false
   },
   "outputs": [
    {
     "name": "stdout",
     "output_type": "stream",
     "text": [
      "Neural Network Built!\n"
     ]
    }
   ],
   "source": [
    "def conv_net(x, keep_prob):\n",
    "    \"\"\"\n",
    "    Create a convolutional neural network model\n",
    "    : x: Placeholder tensor that holds image data.\n",
    "    : keep_prob: Placeholder tensor that hold dropout keep probability.\n",
    "    : return: Tensor that represents logits\n",
    "    \"\"\"\n",
    "    # TODO: Apply 1, 2, or 3 Convolution and Max Pool layers\n",
    "    #    Play around with different number of outputs, kernel size and stride\n",
    "    # Function Definition from Above:\n",
    "    #    conv2d_maxpool(x_tensor, conv_num_outputs, conv_ksize, conv_strides, pool_ksize, pool_strides)\n",
    "    conv_outputs1 = 16\n",
    "    conv_ksize1 = (5, 5)\n",
    "    conv_strides1 = (1, 1)\n",
    "    pool_k1 = (2, 2)\n",
    "    pool_strides1 = (2, 2)\n",
    "    conv_net = conv2d_maxpool(x, conv_outputs1, conv_ksize1, conv_strides1, pool_k1, pool_strides1)\n",
    "    \n",
    "    conv_outputs2 = 64\n",
    "    conv_ksize2 = (2, 2)\n",
    "    conv_strides2 = (1, 1)\n",
    "    pool_k2 = (2, 2)\n",
    "    pool_strides2 = (2, 2)\n",
    "    conv_net = conv2d_maxpool(conv_net, conv_outputs2, conv_ksize2, conv_strides2, pool_k2, pool_strides2)\n",
    "    \n",
    "    conv_outputs3 = 128\n",
    "    conv_ksize3 = (2, 2)\n",
    "    conv_strides3 = (1, 1)\n",
    "    pool_k3 = (2, 2)\n",
    "    pool_strides3 = (1, 1)\n",
    "    conv_net = conv2d_maxpool(conv_net, conv_outputs2, conv_ksize2, conv_strides2, pool_k2, pool_strides2)\n",
    "    \n",
    "  \n",
    "\n",
    "    # TODO: Apply a Flatten Layer\n",
    "    # Function Definition from Above:\n",
    "    conv_net = flatten(conv_net)\n",
    "    \n",
    "\n",
    "    # TODO: Apply 1, 2, or 3 Fully Connected Layers\n",
    "    #    Play around with different number of outputs\n",
    "    # Function Definition from Above:\n",
    "    conv_net = fully_conn(conv_net, 100)\n",
    "    conv_net = tf.nn.dropout(conv_net, keep_prob)\n",
    "    conv_net = fully_conn(conv_net, 50)\n",
    "    conv_net = tf.nn.dropout(conv_net, keep_prob)\n",
    "    conv_net = fully_conn(conv_net, 200)\n",
    "    conv_net = tf.nn.dropout(conv_net, keep_prob)\n",
    "    \n",
    "    # TODO: Apply an Output Layer\n",
    "    #    Set this to the number of classes\n",
    "    # Function Definition from Above:\n",
    "    return output(conv_net, 10)\n",
    "    \n",
    "    \n",
    "\n",
    "\"\"\"\n",
    "DON'T MODIFY ANYTHING IN THIS CELL THAT IS BELOW THIS LINE\n",
    "\"\"\"\n",
    "\n",
    "##############################\n",
    "## Build the Neural Network ##\n",
    "##############################\n",
    "\n",
    "# Remove previous weights, bias, inputs, etc..\n",
    "tf.reset_default_graph()\n",
    "\n",
    "# Inputs\n",
    "x = neural_net_image_input((32, 32, 3))\n",
    "y = neural_net_label_input(10)\n",
    "keep_prob = neural_net_keep_prob_input()\n",
    "\n",
    "# Model\n",
    "logits = conv_net(x, keep_prob)\n",
    "\n",
    "# Name logits Tensor, so that is can be loaded from disk after training\n",
    "logits = tf.identity(logits, name='logits')\n",
    "\n",
    "# Loss and Optimizer\n",
    "cost = tf.reduce_mean(tf.nn.softmax_cross_entropy_with_logits(logits=logits, labels=y))\n",
    "optimizer = tf.train.AdamOptimizer().minimize(cost)\n",
    "\n",
    "# Accuracy\n",
    "correct_pred = tf.equal(tf.argmax(logits, 1), tf.argmax(y, 1))\n",
    "accuracy = tf.reduce_mean(tf.cast(correct_pred, tf.float32), name='accuracy')\n",
    "\n",
    "tests.test_conv_net(conv_net)"
   ]
  },
  {
   "cell_type": "markdown",
   "metadata": {},
   "source": [
    "## Train the Neural Network\n",
    "### Single Optimization\n",
    "Implement the function `train_neural_network` to do a single optimization.  The optimization should use `optimizer` to optimize in `session` with a `feed_dict` of the following:\n",
    "* `x` for image input\n",
    "* `y` for labels\n",
    "* `keep_prob` for keep probability for dropout\n",
    "\n",
    "This function will be called for each batch, so `tf.global_variables_initializer()` has already been called.\n",
    "\n",
    "Note: Nothing needs to be returned. This function is only optimizing the neural network."
   ]
  },
  {
   "cell_type": "code",
   "execution_count": 13,
   "metadata": {
    "collapsed": false
   },
   "outputs": [
    {
     "name": "stdout",
     "output_type": "stream",
     "text": [
      "Tests Passed\n"
     ]
    }
   ],
   "source": [
    "def train_neural_network(session, optimizer, keep_probability, feature_batch, label_batch):\n",
    "    \"\"\"\n",
    "    Optimize the session on a batch of images and labels\n",
    "    : session: Current TensorFlow session\n",
    "    : optimizer: TensorFlow optimizer function\n",
    "    : keep_probability: keep probability\n",
    "    : feature_batch: Batch of Numpy image data\n",
    "    : label_batch: Batch of Numpy label data\n",
    "    \"\"\"\n",
    "    optimizer = session.run(\n",
    "        [optimizer],\n",
    "        feed_dict={x: feature_batch, y: label_batch, keep_prob: keep_probability})\n",
    "    pass\n",
    "\n",
    "\n",
    "\"\"\"\n",
    "DON'T MODIFY ANYTHING IN THIS CELL THAT IS BELOW THIS LINE\n",
    "\"\"\"\n",
    "tests.test_train_nn(train_neural_network)"
   ]
  },
  {
   "cell_type": "markdown",
   "metadata": {},
   "source": [
    "### Show Stats\n",
    "Implement the function `print_stats` to print loss and validation accuracy.  Use the global variables `valid_features` and `valid_labels` to calculate validation accuracy.  Use a keep probability of `1.0` to calculate the loss and validation accuracy."
   ]
  },
  {
   "cell_type": "code",
   "execution_count": 14,
   "metadata": {
    "collapsed": false
   },
   "outputs": [],
   "source": [
    "def print_stats(session, feature_batch, label_batch, cost, accuracy):\n",
    "    \"\"\"\n",
    "    Print information about loss and validation accuracy\n",
    "    : session: Current TensorFlow session\n",
    "    : feature_batch: Batch of Numpy image data\n",
    "    : label_batch: Batch of Numpy label data\n",
    "    : cost: TensorFlow cost function\n",
    "    : accuracy: TensorFlow accuracy function\n",
    "    \"\"\"\n",
    "    valid_feed_dict = {x: valid_features, y: valid_labels, keep_prob: 1.0}\n",
    "    train_feed_dict = {x: feature_batch, y: label_batch, keep_prob: 1.0}\n",
    "\n",
    "    validation_accuracy = session.run(accuracy, feed_dict = valid_feed_dict)\n",
    "    validation_loss = session.run(cost, feed_dict=valid_feed_dict)  \n",
    "    train_loss = session.run(cost, feed_dict=train_feed_dict) \n",
    "    \n",
    "    print('validation accuracy {}'.format(validation_accuracy), 'validation loss {}'.format(validation_loss))\n",
    "    pass"
   ]
  },
  {
   "cell_type": "markdown",
   "metadata": {},
   "source": [
    "### Hyperparameters\n",
    "Tune the following parameters:\n",
    "* Set `epochs` to the number of iterations until the network stops learning or start overfitting\n",
    "* Set `batch_size` to the highest number that your machine has memory for.  Most people set them to common sizes of memory:\n",
    " * 64\n",
    " * 128\n",
    " * 256\n",
    " * ...\n",
    "* Set `keep_probability` to the probability of keeping a node using dropout"
   ]
  },
  {
   "cell_type": "code",
   "execution_count": 15,
   "metadata": {
    "collapsed": true
   },
   "outputs": [],
   "source": [
    "# TODO: Tune Parameters\n",
    "epochs = 40\n",
    "batch_size = 128\n",
    "keep_probability = 0.50"
   ]
  },
  {
   "cell_type": "markdown",
   "metadata": {},
   "source": [
    "### Train on a Single CIFAR-10 Batch\n",
    "Instead of training the neural network on all the CIFAR-10 batches of data, let's use a single batch. This should save time while you iterate on the model to get a better accuracy.  Once the final validation accuracy is 50% or greater, run the model on all the data in the next section."
   ]
  },
  {
   "cell_type": "code",
   "execution_count": 16,
   "metadata": {
    "collapsed": false
   },
   "outputs": [
    {
     "name": "stdout",
     "output_type": "stream",
     "text": [
      "Checking the Training on a Single Batch...\n",
      "Epoch  1, CIFAR-10 Batch 1:  validation accuracy 0.12600000202655792 validation loss 2.2808642387390137\n",
      "Epoch  2, CIFAR-10 Batch 1:  validation accuracy 0.15520000457763672 validation loss 2.215158700942993\n",
      "Epoch  3, CIFAR-10 Batch 1:  validation accuracy 0.1477999985218048 validation loss 2.231182336807251\n",
      "Epoch  4, CIFAR-10 Batch 1:  validation accuracy 0.1454000025987625 validation loss 2.2092812061309814\n",
      "Epoch  5, CIFAR-10 Batch 1:  validation accuracy 0.18520000576972961 validation loss 2.075110673904419\n",
      "Epoch  6, CIFAR-10 Batch 1:  validation accuracy 0.22360000014305115 validation loss 1.955350399017334\n",
      "Epoch  7, CIFAR-10 Batch 1:  validation accuracy 0.266400009393692 validation loss 1.8116072416305542\n",
      "Epoch  8, CIFAR-10 Batch 1:  validation accuracy 0.2881999909877777 validation loss 1.7848438024520874\n",
      "Epoch  9, CIFAR-10 Batch 1:  validation accuracy 0.3109999895095825 validation loss 1.7561644315719604\n",
      "Epoch 10, CIFAR-10 Batch 1:  validation accuracy 0.32280001044273376 validation loss 1.701544165611267\n",
      "Epoch 11, CIFAR-10 Batch 1:  validation accuracy 0.33959999680519104 validation loss 1.6969174146652222\n",
      "Epoch 12, CIFAR-10 Batch 1:  validation accuracy 0.3490000069141388 validation loss 1.6692653894424438\n",
      "Epoch 13, CIFAR-10 Batch 1:  validation accuracy 0.36579999327659607 validation loss 1.6388871669769287\n",
      "Epoch 14, CIFAR-10 Batch 1:  validation accuracy 0.36500000953674316 validation loss 1.637764811515808\n",
      "Epoch 15, CIFAR-10 Batch 1:  validation accuracy 0.3734000027179718 validation loss 1.6206868886947632\n",
      "Epoch 16, CIFAR-10 Batch 1:  validation accuracy 0.38940000534057617 validation loss 1.5754984617233276\n",
      "Epoch 17, CIFAR-10 Batch 1:  validation accuracy 0.3885999917984009 validation loss 1.565158486366272\n",
      "Epoch 18, CIFAR-10 Batch 1:  validation accuracy 0.4235999882221222 validation loss 1.5139858722686768\n",
      "Epoch 19, CIFAR-10 Batch 1:  validation accuracy 0.41780000925064087 validation loss 1.548941969871521\n",
      "Epoch 20, CIFAR-10 Batch 1:  validation accuracy 0.41839998960494995 validation loss 1.5044785737991333\n",
      "Epoch 21, CIFAR-10 Batch 1:  validation accuracy 0.4442000091075897 validation loss 1.4609922170639038\n",
      "Epoch 22, CIFAR-10 Batch 1:  validation accuracy 0.45399999618530273 validation loss 1.453316330909729\n",
      "Epoch 23, CIFAR-10 Batch 1:  validation accuracy 0.48159998655319214 validation loss 1.3995906114578247\n",
      "Epoch 24, CIFAR-10 Batch 1:  validation accuracy 0.4765999913215637 validation loss 1.4208835363388062\n",
      "Epoch 25, CIFAR-10 Batch 1:  validation accuracy 0.48660001158714294 validation loss 1.4052155017852783\n",
      "Epoch 26, CIFAR-10 Batch 1:  validation accuracy 0.45739999413490295 validation loss 1.454054355621338\n",
      "Epoch 27, CIFAR-10 Batch 1:  validation accuracy 0.4936000108718872 validation loss 1.3847237825393677\n",
      "Epoch 28, CIFAR-10 Batch 1:  validation accuracy 0.49480000138282776 validation loss 1.3929201364517212\n",
      "Epoch 29, CIFAR-10 Batch 1:  validation accuracy 0.49239999055862427 validation loss 1.4067275524139404\n",
      "Epoch 30, CIFAR-10 Batch 1:  validation accuracy 0.45559999346733093 validation loss 1.4829779863357544\n",
      "Epoch 31, CIFAR-10 Batch 1:  validation accuracy 0.5210000276565552 validation loss 1.3276612758636475\n",
      "Epoch 32, CIFAR-10 Batch 1:  validation accuracy 0.5041999816894531 validation loss 1.3883459568023682\n",
      "Epoch 33, CIFAR-10 Batch 1:  validation accuracy 0.5238000154495239 validation loss 1.3470425605773926\n",
      "Epoch 34, CIFAR-10 Batch 1:  validation accuracy 0.490200012922287 validation loss 1.405746340751648\n",
      "Epoch 35, CIFAR-10 Batch 1:  validation accuracy 0.5266000032424927 validation loss 1.3082953691482544\n",
      "Epoch 36, CIFAR-10 Batch 1:  validation accuracy 0.5293999910354614 validation loss 1.2973698377609253\n",
      "Epoch 37, CIFAR-10 Batch 1:  validation accuracy 0.5212000012397766 validation loss 1.3326066732406616\n",
      "Epoch 38, CIFAR-10 Batch 1:  validation accuracy 0.5257999897003174 validation loss 1.3452506065368652\n",
      "Epoch 39, CIFAR-10 Batch 1:  validation accuracy 0.5407999753952026 validation loss 1.3079161643981934\n",
      "Epoch 40, CIFAR-10 Batch 1:  validation accuracy 0.5370000004768372 validation loss 1.317102313041687\n"
     ]
    }
   ],
   "source": [
    "\"\"\"\n",
    "DON'T MODIFY ANYTHING IN THIS CELL\n",
    "\"\"\"\n",
    "print('Checking the Training on a Single Batch...')\n",
    "with tf.Session() as sess:\n",
    "    # Initializing the variables\n",
    "    sess.run(tf.global_variables_initializer())\n",
    "    #tf.initialize_all_variables\n",
    "    \n",
    "    # Training cycle\n",
    "    for epoch in range(epochs):\n",
    "        batch_i = 1\n",
    "        for batch_features, batch_labels in helper.load_preprocess_training_batch(batch_i, batch_size):\n",
    "            train_neural_network(sess, optimizer, keep_probability, batch_features, batch_labels)\n",
    "        print('Epoch {:>2}, CIFAR-10 Batch {}:  '.format(epoch + 1, batch_i), end='')\n",
    "        print_stats(sess, batch_features, batch_labels, cost, accuracy)"
   ]
  },
  {
   "cell_type": "markdown",
   "metadata": {},
   "source": [
    "### Fully Train the Model\n",
    "Now that you got a good accuracy with a single CIFAR-10 batch, try it with all five batches."
   ]
  },
  {
   "cell_type": "code",
   "execution_count": 17,
   "metadata": {
    "collapsed": false
   },
   "outputs": [
    {
     "name": "stdout",
     "output_type": "stream",
     "text": [
      "Training...\n",
      "Epoch  1, CIFAR-10 Batch 1:  validation accuracy 0.0997999981045723 validation loss 2.4276669025421143\n",
      "Epoch  1, CIFAR-10 Batch 2:  validation accuracy 0.10199999809265137 validation loss 2.333904266357422\n",
      "Epoch  1, CIFAR-10 Batch 3:  validation accuracy 0.14319999516010284 validation loss 2.2813596725463867\n",
      "Epoch  1, CIFAR-10 Batch 4:  validation accuracy 0.1972000002861023 validation loss 2.2185897827148438\n",
      "Epoch  1, CIFAR-10 Batch 5:  validation accuracy 0.22499999403953552 validation loss 1.9817591905593872\n",
      "Epoch  2, CIFAR-10 Batch 1:  validation accuracy 0.22939999401569366 validation loss 1.9526917934417725\n",
      "Epoch  2, CIFAR-10 Batch 2:  validation accuracy 0.26260000467300415 validation loss 1.9030413627624512\n",
      "Epoch  2, CIFAR-10 Batch 3:  validation accuracy 0.2694000005722046 validation loss 1.8554749488830566\n",
      "Epoch  2, CIFAR-10 Batch 4:  validation accuracy 0.30399999022483826 validation loss 1.8058902025222778\n",
      "Epoch  2, CIFAR-10 Batch 5:  validation accuracy 0.28439998626708984 validation loss 1.8371357917785645\n",
      "Epoch  3, CIFAR-10 Batch 1:  validation accuracy 0.3287999927997589 validation loss 1.7376890182495117\n",
      "Epoch  3, CIFAR-10 Batch 2:  validation accuracy 0.33000001311302185 validation loss 1.722015619277954\n",
      "Epoch  3, CIFAR-10 Batch 3:  validation accuracy 0.33079999685287476 validation loss 1.6952877044677734\n",
      "Epoch  3, CIFAR-10 Batch 4:  validation accuracy 0.3734000027179718 validation loss 1.6528457403182983\n",
      "Epoch  3, CIFAR-10 Batch 5:  validation accuracy 0.37940001487731934 validation loss 1.6302776336669922\n",
      "Epoch  4, CIFAR-10 Batch 1:  validation accuracy 0.39640000462532043 validation loss 1.6226634979248047\n",
      "Epoch  4, CIFAR-10 Batch 2:  validation accuracy 0.4047999978065491 validation loss 1.5459187030792236\n",
      "Epoch  4, CIFAR-10 Batch 3:  validation accuracy 0.40619999170303345 validation loss 1.5777692794799805\n",
      "Epoch  4, CIFAR-10 Batch 4:  validation accuracy 0.44339999556541443 validation loss 1.4980835914611816\n",
      "Epoch  4, CIFAR-10 Batch 5:  validation accuracy 0.4562000036239624 validation loss 1.466879963874817\n",
      "Epoch  5, CIFAR-10 Batch 1:  validation accuracy 0.44620001316070557 validation loss 1.48494291305542\n",
      "Epoch  5, CIFAR-10 Batch 2:  validation accuracy 0.4474000036716461 validation loss 1.4439923763275146\n",
      "Epoch  5, CIFAR-10 Batch 3:  validation accuracy 0.46399998664855957 validation loss 1.424979329109192\n",
      "Epoch  5, CIFAR-10 Batch 4:  validation accuracy 0.47920000553131104 validation loss 1.391622543334961\n",
      "Epoch  5, CIFAR-10 Batch 5:  validation accuracy 0.48579999804496765 validation loss 1.3812512159347534\n",
      "Epoch  6, CIFAR-10 Batch 1:  validation accuracy 0.5054000020027161 validation loss 1.3572474718093872\n",
      "Epoch  6, CIFAR-10 Batch 2:  validation accuracy 0.4797999858856201 validation loss 1.3554441928863525\n",
      "Epoch  6, CIFAR-10 Batch 3:  validation accuracy 0.48260000348091125 validation loss 1.3547585010528564\n",
      "Epoch  6, CIFAR-10 Batch 4:  validation accuracy 0.5001999735832214 validation loss 1.3347318172454834\n",
      "Epoch  6, CIFAR-10 Batch 5:  validation accuracy 0.5148000121116638 validation loss 1.3019098043441772\n",
      "Epoch  7, CIFAR-10 Batch 1:  validation accuracy 0.526199996471405 validation loss 1.3007994890213013\n",
      "Epoch  7, CIFAR-10 Batch 2:  validation accuracy 0.49399998784065247 validation loss 1.3238928318023682\n",
      "Epoch  7, CIFAR-10 Batch 3:  validation accuracy 0.4973999857902527 validation loss 1.3295269012451172\n",
      "Epoch  7, CIFAR-10 Batch 4:  validation accuracy 0.5135999917984009 validation loss 1.3129602670669556\n",
      "Epoch  7, CIFAR-10 Batch 5:  validation accuracy 0.520799994468689 validation loss 1.2790838479995728\n",
      "Epoch  8, CIFAR-10 Batch 1:  validation accuracy 0.5418000221252441 validation loss 1.2598544359207153\n",
      "Epoch  8, CIFAR-10 Batch 2:  validation accuracy 0.5278000235557556 validation loss 1.2496148347854614\n",
      "Epoch  8, CIFAR-10 Batch 3:  validation accuracy 0.5303999781608582 validation loss 1.2666274309158325\n",
      "Epoch  8, CIFAR-10 Batch 4:  validation accuracy 0.5523999929428101 validation loss 1.2248798608779907\n",
      "Epoch  8, CIFAR-10 Batch 5:  validation accuracy 0.545799970626831 validation loss 1.2376607656478882\n",
      "Epoch  9, CIFAR-10 Batch 1:  validation accuracy 0.5547999739646912 validation loss 1.2142103910446167\n",
      "Epoch  9, CIFAR-10 Batch 2:  validation accuracy 0.5419999957084656 validation loss 1.2376868724822998\n",
      "Epoch  9, CIFAR-10 Batch 3:  validation accuracy 0.5690000057220459 validation loss 1.1927226781845093\n",
      "Epoch  9, CIFAR-10 Batch 4:  validation accuracy 0.5753999948501587 validation loss 1.1768704652786255\n",
      "Epoch  9, CIFAR-10 Batch 5:  validation accuracy 0.5562000274658203 validation loss 1.2088634967803955\n",
      "Epoch 10, CIFAR-10 Batch 1:  validation accuracy 0.5699999928474426 validation loss 1.2110528945922852\n",
      "Epoch 10, CIFAR-10 Batch 2:  validation accuracy 0.5690000057220459 validation loss 1.1747801303863525\n",
      "Epoch 10, CIFAR-10 Batch 3:  validation accuracy 0.5569999814033508 validation loss 1.189940333366394\n",
      "Epoch 10, CIFAR-10 Batch 4:  validation accuracy 0.579200029373169 validation loss 1.1546027660369873\n",
      "Epoch 10, CIFAR-10 Batch 5:  validation accuracy 0.5809999704360962 validation loss 1.1487152576446533\n",
      "Epoch 11, CIFAR-10 Batch 1:  validation accuracy 0.5834000110626221 validation loss 1.1687849760055542\n",
      "Epoch 11, CIFAR-10 Batch 2:  validation accuracy 0.5817999839782715 validation loss 1.1454607248306274\n",
      "Epoch 11, CIFAR-10 Batch 3:  validation accuracy 0.5601999759674072 validation loss 1.2116236686706543\n",
      "Epoch 11, CIFAR-10 Batch 4:  validation accuracy 0.5950000286102295 validation loss 1.1286444664001465\n",
      "Epoch 11, CIFAR-10 Batch 5:  validation accuracy 0.5601999759674072 validation loss 1.197805643081665\n",
      "Epoch 12, CIFAR-10 Batch 1:  validation accuracy 0.5759999752044678 validation loss 1.1683413982391357\n",
      "Epoch 12, CIFAR-10 Batch 2:  validation accuracy 0.5752000212669373 validation loss 1.1695281267166138\n",
      "Epoch 12, CIFAR-10 Batch 3:  validation accuracy 0.5899999737739563 validation loss 1.1256630420684814\n",
      "Epoch 12, CIFAR-10 Batch 4:  validation accuracy 0.6075999736785889 validation loss 1.1130808591842651\n",
      "Epoch 12, CIFAR-10 Batch 5:  validation accuracy 0.5852000117301941 validation loss 1.125977873802185\n",
      "Epoch 13, CIFAR-10 Batch 1:  validation accuracy 0.603600025177002 validation loss 1.1120986938476562\n",
      "Epoch 13, CIFAR-10 Batch 2:  validation accuracy 0.5906000137329102 validation loss 1.126410961151123\n",
      "Epoch 13, CIFAR-10 Batch 3:  validation accuracy 0.6003999710083008 validation loss 1.1091078519821167\n",
      "Epoch 13, CIFAR-10 Batch 4:  validation accuracy 0.5896000266075134 validation loss 1.147815465927124\n",
      "Epoch 13, CIFAR-10 Batch 5:  validation accuracy 0.5702000260353088 validation loss 1.1727098226547241\n",
      "Epoch 14, CIFAR-10 Batch 1:  validation accuracy 0.5947999954223633 validation loss 1.1468998193740845\n",
      "Epoch 14, CIFAR-10 Batch 2:  validation accuracy 0.6074000000953674 validation loss 1.089700698852539\n",
      "Epoch 14, CIFAR-10 Batch 3:  validation accuracy 0.6123999953269958 validation loss 1.079359531402588\n",
      "Epoch 14, CIFAR-10 Batch 4:  validation accuracy 0.6110000014305115 validation loss 1.0937473773956299\n",
      "Epoch 14, CIFAR-10 Batch 5:  validation accuracy 0.6092000007629395 validation loss 1.0941299200057983\n",
      "Epoch 15, CIFAR-10 Batch 1:  validation accuracy 0.6144000291824341 validation loss 1.1109347343444824\n",
      "Epoch 15, CIFAR-10 Batch 2:  validation accuracy 0.6050000190734863 validation loss 1.1065278053283691\n",
      "Epoch 15, CIFAR-10 Batch 3:  validation accuracy 0.6281999945640564 validation loss 1.0595308542251587\n",
      "Epoch 15, CIFAR-10 Batch 4:  validation accuracy 0.621399998664856 validation loss 1.076737642288208\n",
      "Epoch 15, CIFAR-10 Batch 5:  validation accuracy 0.6172000169754028 validation loss 1.0689914226531982\n",
      "Epoch 16, CIFAR-10 Batch 1:  validation accuracy 0.614799976348877 validation loss 1.0870765447616577\n",
      "Epoch 16, CIFAR-10 Batch 2:  validation accuracy 0.6212000250816345 validation loss 1.0676822662353516\n",
      "Epoch 16, CIFAR-10 Batch 3:  validation accuracy 0.6313999891281128 validation loss 1.0628520250320435\n",
      "Epoch 16, CIFAR-10 Batch 4:  validation accuracy 0.6227999925613403 validation loss 1.0634644031524658\n",
      "Epoch 16, CIFAR-10 Batch 5:  validation accuracy 0.59579998254776 validation loss 1.134284257888794\n",
      "Epoch 17, CIFAR-10 Batch 1:  validation accuracy 0.6209999918937683 validation loss 1.0958199501037598\n",
      "Epoch 17, CIFAR-10 Batch 2:  validation accuracy 0.620199978351593 validation loss 1.0824836492538452\n",
      "Epoch 17, CIFAR-10 Batch 3:  validation accuracy 0.6158000230789185 validation loss 1.0701733827590942\n",
      "Epoch 17, CIFAR-10 Batch 4:  validation accuracy 0.6101999878883362 validation loss 1.1056357622146606\n",
      "Epoch 17, CIFAR-10 Batch 5:  validation accuracy 0.6218000054359436 validation loss 1.0572134256362915\n",
      "Epoch 18, CIFAR-10 Batch 1:  validation accuracy 0.6258000135421753 validation loss 1.0744234323501587\n",
      "Epoch 18, CIFAR-10 Batch 2:  validation accuracy 0.6227999925613403 validation loss 1.0604370832443237\n",
      "Epoch 18, CIFAR-10 Batch 3:  validation accuracy 0.6322000026702881 validation loss 1.0338550806045532\n",
      "Epoch 18, CIFAR-10 Batch 4:  validation accuracy 0.6277999877929688 validation loss 1.0616384744644165\n",
      "Epoch 18, CIFAR-10 Batch 5:  validation accuracy 0.6287999749183655 validation loss 1.0515613555908203\n",
      "Epoch 19, CIFAR-10 Batch 1:  validation accuracy 0.6255999803543091 validation loss 1.0798845291137695\n",
      "Epoch 19, CIFAR-10 Batch 2:  validation accuracy 0.6322000026702881 validation loss 1.0400201082229614\n",
      "Epoch 19, CIFAR-10 Batch 3:  validation accuracy 0.6323999762535095 validation loss 1.044426441192627\n",
      "Epoch 19, CIFAR-10 Batch 4:  validation accuracy 0.626800000667572 validation loss 1.0644621849060059\n",
      "Epoch 19, CIFAR-10 Batch 5:  validation accuracy 0.6413999795913696 validation loss 1.017447829246521\n",
      "Epoch 20, CIFAR-10 Batch 1:  validation accuracy 0.6294000148773193 validation loss 1.0755832195281982\n",
      "Epoch 20, CIFAR-10 Batch 2:  validation accuracy 0.6240000128746033 validation loss 1.0617707967758179\n",
      "Epoch 20, CIFAR-10 Batch 3:  validation accuracy 0.6425999999046326 validation loss 1.0336484909057617\n",
      "Epoch 20, CIFAR-10 Batch 4:  validation accuracy 0.6349999904632568 validation loss 1.0398662090301514\n",
      "Epoch 20, CIFAR-10 Batch 5:  validation accuracy 0.6327999830245972 validation loss 1.0461660623550415\n",
      "Epoch 21, CIFAR-10 Batch 1:  validation accuracy 0.6284000277519226 validation loss 1.0775220394134521\n",
      "Epoch 21, CIFAR-10 Batch 2:  validation accuracy 0.633400022983551 validation loss 1.0485520362854004\n",
      "Epoch 21, CIFAR-10 Batch 3:  validation accuracy 0.6384000182151794 validation loss 1.0186583995819092\n",
      "Epoch 21, CIFAR-10 Batch 4:  validation accuracy 0.6272000074386597 validation loss 1.062211275100708\n",
      "Epoch 21, CIFAR-10 Batch 5:  validation accuracy 0.6377999782562256 validation loss 1.0273951292037964\n",
      "Epoch 22, CIFAR-10 Batch 1:  validation accuracy 0.6514000296592712 validation loss 1.0142931938171387\n",
      "Epoch 22, CIFAR-10 Batch 2:  validation accuracy 0.642799973487854 validation loss 1.0253009796142578\n",
      "Epoch 22, CIFAR-10 Batch 3:  validation accuracy 0.6431999802589417 validation loss 1.0265957117080688\n",
      "Epoch 22, CIFAR-10 Batch 4:  validation accuracy 0.6344000101089478 validation loss 1.0378978252410889\n",
      "Epoch 22, CIFAR-10 Batch 5:  validation accuracy 0.6348000168800354 validation loss 1.0352085828781128\n",
      "Epoch 23, CIFAR-10 Batch 1:  validation accuracy 0.647599995136261 validation loss 1.0182815790176392\n",
      "Epoch 23, CIFAR-10 Batch 2:  validation accuracy 0.6456000208854675 validation loss 1.0093162059783936\n",
      "Epoch 23, CIFAR-10 Batch 3:  validation accuracy 0.6492000222206116 validation loss 0.9959239959716797\n",
      "Epoch 23, CIFAR-10 Batch 4:  validation accuracy 0.6335999965667725 validation loss 1.0281898975372314\n",
      "Epoch 23, CIFAR-10 Batch 5:  validation accuracy 0.6395999789237976 validation loss 1.0257691144943237\n",
      "Epoch 24, CIFAR-10 Batch 1:  validation accuracy 0.6370000243186951 validation loss 1.058951497077942\n",
      "Epoch 24, CIFAR-10 Batch 2:  validation accuracy 0.6492000222206116 validation loss 1.0140589475631714\n",
      "Epoch 24, CIFAR-10 Batch 3:  validation accuracy 0.6589999794960022 validation loss 0.9852759838104248\n",
      "Epoch 24, CIFAR-10 Batch 4:  validation accuracy 0.6317999958992004 validation loss 1.0618889331817627\n",
      "Epoch 24, CIFAR-10 Batch 5:  validation accuracy 0.646399974822998 validation loss 1.013106107711792\n",
      "Epoch 25, CIFAR-10 Batch 1:  validation accuracy 0.6485999822616577 validation loss 1.0192487239837646\n",
      "Epoch 25, CIFAR-10 Batch 2:  validation accuracy 0.6439999938011169 validation loss 1.029750943183899\n",
      "Epoch 25, CIFAR-10 Batch 3:  validation accuracy 0.6466000080108643 validation loss 1.0106714963912964\n",
      "Epoch 25, CIFAR-10 Batch 4:  validation accuracy 0.6413999795913696 validation loss 1.0372192859649658\n",
      "Epoch 25, CIFAR-10 Batch 5:  validation accuracy 0.6345999836921692 validation loss 1.0444064140319824\n",
      "Epoch 26, CIFAR-10 Batch 1:  validation accuracy 0.6431999802589417 validation loss 1.0475267171859741\n",
      "Epoch 26, CIFAR-10 Batch 2:  validation accuracy 0.6467999815940857 validation loss 1.0300654172897339\n",
      "Epoch 26, CIFAR-10 Batch 3:  validation accuracy 0.6389999985694885 validation loss 1.006060004234314\n",
      "Epoch 26, CIFAR-10 Batch 4:  validation accuracy 0.6480000019073486 validation loss 1.013885736465454\n",
      "Epoch 26, CIFAR-10 Batch 5:  validation accuracy 0.6466000080108643 validation loss 1.012323260307312\n",
      "Epoch 27, CIFAR-10 Batch 1:  validation accuracy 0.6543999910354614 validation loss 1.0077507495880127\n",
      "Epoch 27, CIFAR-10 Batch 2:  validation accuracy 0.649399995803833 validation loss 1.0090025663375854\n",
      "Epoch 27, CIFAR-10 Batch 3:  validation accuracy 0.6367999911308289 validation loss 1.039824366569519\n",
      "Epoch 27, CIFAR-10 Batch 4:  validation accuracy 0.6442000269889832 validation loss 1.0163718461990356\n",
      "Epoch 27, CIFAR-10 Batch 5:  validation accuracy 0.6528000235557556 validation loss 0.9997379779815674\n",
      "Epoch 28, CIFAR-10 Batch 1:  validation accuracy 0.6611999869346619 validation loss 0.9820446968078613\n",
      "Epoch 28, CIFAR-10 Batch 2:  validation accuracy 0.6521999835968018 validation loss 1.0075011253356934\n",
      "Epoch 28, CIFAR-10 Batch 3:  validation accuracy 0.6480000019073486 validation loss 1.0117069482803345\n",
      "Epoch 28, CIFAR-10 Batch 4:  validation accuracy 0.6553999781608582 validation loss 1.0007535219192505\n",
      "Epoch 28, CIFAR-10 Batch 5:  validation accuracy 0.6514000296592712 validation loss 1.0104724168777466\n",
      "Epoch 29, CIFAR-10 Batch 1:  validation accuracy 0.6697999835014343 validation loss 0.9784385561943054\n",
      "Epoch 29, CIFAR-10 Batch 2:  validation accuracy 0.6585999727249146 validation loss 0.9896364212036133\n",
      "Epoch 29, CIFAR-10 Batch 3:  validation accuracy 0.65420001745224 validation loss 1.0014928579330444\n",
      "Epoch 29, CIFAR-10 Batch 4:  validation accuracy 0.6503999829292297 validation loss 0.9981861114501953\n",
      "Epoch 29, CIFAR-10 Batch 5:  validation accuracy 0.6614000201225281 validation loss 0.9977566599845886\n",
      "Epoch 30, CIFAR-10 Batch 1:  validation accuracy 0.6547999978065491 validation loss 1.0068670511245728\n",
      "Epoch 30, CIFAR-10 Batch 2:  validation accuracy 0.6633999943733215 validation loss 0.9787592887878418\n",
      "Epoch 30, CIFAR-10 Batch 3:  validation accuracy 0.6517999768257141 validation loss 1.0195285081863403\n",
      "Epoch 30, CIFAR-10 Batch 4:  validation accuracy 0.6424000263214111 validation loss 1.0395478010177612\n",
      "Epoch 30, CIFAR-10 Batch 5:  validation accuracy 0.6660000085830688 validation loss 0.9800259470939636\n",
      "Epoch 31, CIFAR-10 Batch 1:  validation accuracy 0.6646000146865845 validation loss 0.9845914840698242\n",
      "Epoch 31, CIFAR-10 Batch 2:  validation accuracy 0.6696000099182129 validation loss 0.9715577363967896\n",
      "Epoch 31, CIFAR-10 Batch 3:  validation accuracy 0.6424000263214111 validation loss 1.0299808979034424\n",
      "Epoch 31, CIFAR-10 Batch 4:  validation accuracy 0.6575999855995178 validation loss 0.992104709148407\n",
      "Epoch 31, CIFAR-10 Batch 5:  validation accuracy 0.63919997215271 validation loss 1.0206035375595093\n",
      "Epoch 32, CIFAR-10 Batch 1:  validation accuracy 0.659600019454956 validation loss 0.9837921857833862\n",
      "Epoch 32, CIFAR-10 Batch 2:  validation accuracy 0.6384000182151794 validation loss 1.0621525049209595\n",
      "Epoch 32, CIFAR-10 Batch 3:  validation accuracy 0.6583999991416931 validation loss 0.9863347411155701\n",
      "Epoch 32, CIFAR-10 Batch 4:  validation accuracy 0.6675999760627747 validation loss 0.9734390377998352\n",
      "Epoch 32, CIFAR-10 Batch 5:  validation accuracy 0.6679999828338623 validation loss 0.9665692448616028\n",
      "Epoch 33, CIFAR-10 Batch 1:  validation accuracy 0.6714000105857849 validation loss 0.968039870262146\n",
      "Epoch 33, CIFAR-10 Batch 2:  validation accuracy 0.6525999903678894 validation loss 1.008021354675293\n",
      "Epoch 33, CIFAR-10 Batch 3:  validation accuracy 0.6525999903678894 validation loss 0.9955814480781555\n",
      "Epoch 33, CIFAR-10 Batch 4:  validation accuracy 0.6603999733924866 validation loss 1.009945273399353\n",
      "Epoch 33, CIFAR-10 Batch 5:  validation accuracy 0.6571999788284302 validation loss 0.9873208999633789\n",
      "Epoch 34, CIFAR-10 Batch 1:  validation accuracy 0.6610000133514404 validation loss 0.9976959824562073\n",
      "Epoch 34, CIFAR-10 Batch 2:  validation accuracy 0.6650000214576721 validation loss 0.9796528220176697\n",
      "Epoch 34, CIFAR-10 Batch 3:  validation accuracy 0.6642000079154968 validation loss 0.999930739402771\n",
      "Epoch 34, CIFAR-10 Batch 4:  validation accuracy 0.6597999930381775 validation loss 0.9778285026550293\n",
      "Epoch 34, CIFAR-10 Batch 5:  validation accuracy 0.6628000140190125 validation loss 0.9881487488746643\n",
      "Epoch 35, CIFAR-10 Batch 1:  validation accuracy 0.6611999869346619 validation loss 0.9889647364616394\n",
      "Epoch 35, CIFAR-10 Batch 2:  validation accuracy 0.6697999835014343 validation loss 0.9707787036895752\n",
      "Epoch 35, CIFAR-10 Batch 3:  validation accuracy 0.6647999882698059 validation loss 0.973533034324646\n",
      "Epoch 35, CIFAR-10 Batch 4:  validation accuracy 0.6638000011444092 validation loss 0.9884713888168335\n",
      "Epoch 35, CIFAR-10 Batch 5:  validation accuracy 0.6690000295639038 validation loss 0.958335816860199\n",
      "Epoch 36, CIFAR-10 Batch 1:  validation accuracy 0.6593999862670898 validation loss 1.0099267959594727\n",
      "Epoch 36, CIFAR-10 Batch 2:  validation accuracy 0.6639999747276306 validation loss 0.9978490471839905\n",
      "Epoch 36, CIFAR-10 Batch 3:  validation accuracy 0.6651999950408936 validation loss 0.9824854731559753\n",
      "Epoch 36, CIFAR-10 Batch 4:  validation accuracy 0.6660000085830688 validation loss 0.9699800610542297\n",
      "Epoch 36, CIFAR-10 Batch 5:  validation accuracy 0.6628000140190125 validation loss 1.004624843597412\n",
      "Epoch 37, CIFAR-10 Batch 1:  validation accuracy 0.6546000242233276 validation loss 0.9897909164428711\n",
      "Epoch 37, CIFAR-10 Batch 2:  validation accuracy 0.6531999707221985 validation loss 1.009041428565979\n",
      "Epoch 37, CIFAR-10 Batch 3:  validation accuracy 0.6693999767303467 validation loss 0.9789903163909912\n",
      "Epoch 37, CIFAR-10 Batch 4:  validation accuracy 0.6614000201225281 validation loss 1.001401662826538\n",
      "Epoch 37, CIFAR-10 Batch 5:  validation accuracy 0.6629999876022339 validation loss 0.9927142858505249\n",
      "Epoch 38, CIFAR-10 Batch 1:  validation accuracy 0.6674000024795532 validation loss 0.9946738481521606\n",
      "Epoch 38, CIFAR-10 Batch 2:  validation accuracy 0.6773999929428101 validation loss 0.969900369644165\n",
      "Epoch 38, CIFAR-10 Batch 3:  validation accuracy 0.6743999719619751 validation loss 0.963036298751831\n",
      "Epoch 38, CIFAR-10 Batch 4:  validation accuracy 0.6646000146865845 validation loss 0.9861403107643127\n",
      "Epoch 38, CIFAR-10 Batch 5:  validation accuracy 0.6611999869346619 validation loss 0.9897304773330688\n",
      "Epoch 39, CIFAR-10 Batch 1:  validation accuracy 0.6672000288963318 validation loss 0.9734484553337097\n",
      "Epoch 39, CIFAR-10 Batch 2:  validation accuracy 0.6812000274658203 validation loss 0.9467117190361023\n",
      "Epoch 39, CIFAR-10 Batch 3:  validation accuracy 0.6711999773979187 validation loss 0.9635962843894958\n",
      "Epoch 39, CIFAR-10 Batch 4:  validation accuracy 0.6583999991416931 validation loss 1.0158324241638184\n",
      "Epoch 39, CIFAR-10 Batch 5:  validation accuracy 0.6507999897003174 validation loss 1.0642552375793457\n",
      "Epoch 40, CIFAR-10 Batch 1:  validation accuracy 0.6525999903678894 validation loss 1.0118060111999512\n",
      "Epoch 40, CIFAR-10 Batch 2:  validation accuracy 0.676800012588501 validation loss 0.9619593620300293\n",
      "Epoch 40, CIFAR-10 Batch 3:  validation accuracy 0.6761999726295471 validation loss 0.9760792851448059\n",
      "Epoch 40, CIFAR-10 Batch 4:  validation accuracy 0.6679999828338623 validation loss 0.9803564548492432\n",
      "Epoch 40, CIFAR-10 Batch 5:  validation accuracy 0.6664000153541565 validation loss 0.9912802577018738\n"
     ]
    }
   ],
   "source": [
    "\"\"\"\n",
    "DON'T MODIFY ANYTHING IN THIS CELL\n",
    "\"\"\"\n",
    "save_model_path = './image_classification'\n",
    "\n",
    "print('Training...')\n",
    "with tf.Session() as sess:\n",
    "    # Initializing the variables\n",
    "    sess.run(tf.global_variables_initializer())\n",
    "    \n",
    "    # Training cycle\n",
    "    for epoch in range(epochs):\n",
    "        # Loop over all batches\n",
    "        n_batches = 5\n",
    "        for batch_i in range(1, n_batches + 1):\n",
    "            for batch_features, batch_labels in helper.load_preprocess_training_batch(batch_i, batch_size):\n",
    "                train_neural_network(sess, optimizer, keep_probability, batch_features, batch_labels)\n",
    "            print('Epoch {:>2}, CIFAR-10 Batch {}:  '.format(epoch + 1, batch_i), end='')\n",
    "            print_stats(sess, batch_features, batch_labels, cost, accuracy)\n",
    "            \n",
    "    # Save Model\n",
    "    saver = tf.train.Saver()\n",
    "    save_path = saver.save(sess, save_model_path)"
   ]
  },
  {
   "cell_type": "markdown",
   "metadata": {},
   "source": [
    "# Checkpoint\n",
    "The model has been saved to disk.\n",
    "## Test Model\n",
    "Test your model against the test dataset.  This will be your final accuracy. You should have an accuracy greater than 50%. If you don't, keep tweaking the model architecture and parameters."
   ]
  },
  {
   "cell_type": "code",
   "execution_count": 18,
   "metadata": {
    "collapsed": false
   },
   "outputs": [
    {
     "name": "stdout",
     "output_type": "stream",
     "text": [
      "Testing Accuracy: 0.6682159810126582\n",
      "\n"
     ]
    },
    {
     "data": {
      "image/png": "[encoded data removed]",
      "text/plain": [
       "<matplotlib.figure.Figure at 0x1182aca90>"
      ]
     },
     "metadata": {
      "image/png": {
       "height": 319,
       "width": 355
      }
     },
     "output_type": "display_data"
    }
   ],
   "source": [
    "\"\"\"\n",
    "DON'T MODIFY ANYTHING IN THIS CELL\n",
    "\"\"\"\n",
    "%matplotlib inline\n",
    "%config InlineBackend.figure_format = 'retina'\n",
    "\n",
    "import tensorflow as tf\n",
    "import pickle\n",
    "import helper\n",
    "import random\n",
    "\n",
    "# Set batch size if not already set\n",
    "try:\n",
    "    if batch_size:\n",
    "        pass\n",
    "except NameError:\n",
    "    batch_size = 64\n",
    "\n",
    "save_model_path = './image_classification'\n",
    "n_samples = 4\n",
    "top_n_predictions = 3\n",
    "\n",
    "def test_model():\n",
    "    \"\"\"\n",
    "    Test the saved model against the test dataset\n",
    "    \"\"\"\n",
    "\n",
    "    test_features, test_labels = pickle.load(open('preprocess_training.p', mode='rb'))\n",
    "    loaded_graph = tf.Graph()\n",
    "\n",
    "    with tf.Session(graph=loaded_graph) as sess:\n",
    "        # Load model\n",
    "        loader = tf.train.import_meta_graph(save_model_path + '.meta')\n",
    "        loader.restore(sess, save_model_path)\n",
    "\n",
    "        # Get Tensors from loaded model\n",
    "        loaded_x = loaded_graph.get_tensor_by_name('x:0')\n",
    "        loaded_y = loaded_graph.get_tensor_by_name('y:0')\n",
    "        loaded_keep_prob = loaded_graph.get_tensor_by_name('keep_prob:0')\n",
    "        loaded_logits = loaded_graph.get_tensor_by_name('logits:0')\n",
    "        loaded_acc = loaded_graph.get_tensor_by_name('accuracy:0')\n",
    "        \n",
    "        # Get accuracy in batches for memory limitations\n",
    "        test_batch_acc_total = 0\n",
    "        test_batch_count = 0\n",
    "        \n",
    "        for train_feature_batch, train_label_batch in helper.batch_features_labels(test_features, test_labels, batch_size):\n",
    "            test_batch_acc_total += sess.run(\n",
    "                loaded_acc,\n",
    "                feed_dict={loaded_x: train_feature_batch, loaded_y: train_label_batch, loaded_keep_prob: 1.0})\n",
    "            test_batch_count += 1\n",
    "\n",
    "        print('Testing Accuracy: {}\\n'.format(test_batch_acc_total/test_batch_count))\n",
    "\n",
    "        # Print Random Samples\n",
    "        random_test_features, random_test_labels = tuple(zip(*random.sample(list(zip(test_features, test_labels)), n_samples)))\n",
    "        random_test_predictions = sess.run(\n",
    "            tf.nn.top_k(tf.nn.softmax(loaded_logits), top_n_predictions),\n",
    "            feed_dict={loaded_x: random_test_features, loaded_y: random_test_labels, loaded_keep_prob: 1.0})\n",
    "        helper.display_image_predictions(random_test_features, random_test_labels, random_test_predictions)\n",
    "\n",
    "\n",
    "test_model()"
   ]
  },
  {
   "cell_type": "markdown",
   "metadata": {},
   "source": [
    "## Why 50-70% Accuracy?\n",
    "You might be wondering why you can't get an accuracy any higher. First things first, 50% isn't bad for a simple CNN.  Pure guessing would get you 10% accuracy. However, you might notice people are getting scores [well above 70%](http://rodrigob.github.io/are_we_there_yet/build/classification_datasets_results.html#43494641522d3130).  That's because we haven't taught you all there is to know about neural networks. We still need to cover a few more techniques.\n",
    "## Submitting This Project\n",
    "When submitting this project, make sure to run all the cells before saving the notebook.  Save the notebook file as \"dlnd_image_classification.ipynb\" and save it as a HTML file under \"File\" -> \"Download as\".  Include the \"helper.py\" and \"problem_unittests.py\" files in your submission."
   ]
  },
  {
   "cell_type": "code",
   "execution_count": null,
   "metadata": {
    "collapsed": true
   },
   "outputs": [],
   "source": []
  }
 ],
 "metadata": {
  "kernelspec": {
   "display_name": "Python [default]",
   "language": "python",
   "name": "python3"
  },
  "language_info": {
   "codemirror_mode": {
    "name": "ipython",
    "version": 3
   },
   "file_extension": ".py",
   "mimetype": "text/x-python",
   "name": "python",
   "nbconvert_exporter": "python",
   "pygments_lexer": "ipython3",
   "version": "3.5.2"
  }
 },
 "nbformat": 4,
 "nbformat_minor": 0
}
